{
  "cells": [
    {
      "cell_type": "code",
      "execution_count": null,
      "metadata": {
        "id": "nB5YTW_uqzTh"
      },
      "outputs": [],
      "source": [
        "import numpy as np\n",
        "import pandas as pd\n",
        "import matplotlib.pyplot as plt\n",
        "import seaborn as sns\n",
        "from tensorflow import keras\n",
        "import tensorflow as tf\n",
        "import pickle\n",
        "from sklearn.model_selection import train_test_split"
      ]
    },
    {
      "cell_type": "code",
      "execution_count": null,
      "metadata": {
        "id": "xnSXCa39qzTj",
        "outputId": "7835cb47-7660-4d0e-c591-5b639c00094c"
      },
      "outputs": [
        {
          "name": "stdout",
          "output_type": "stream",
          "text": [
            "Model: \"sequential\"\n",
            "_________________________________________________________________\n",
            " Layer (type)                Output Shape              Param #   \n",
            "=================================================================\n",
            " batch_normalization (BatchN  (None, 40, 1280)         5120      \n",
            " ormalization)                                                   \n",
            "                                                                 \n",
            " bidirectional (Bidirectiona  (None, 40, 512)          3147776   \n",
            " l)                                                              \n",
            "                                                                 \n",
            " bidirectional_1 (Bidirectio  (None, 512)              1574912   \n",
            " nal)                                                            \n",
            "                                                                 \n",
            " dense (Dense)               (None, 21)                10773     \n",
            "                                                                 \n",
            "=================================================================\n",
            "Total params: 4,738,581\n",
            "Trainable params: 4,736,021\n",
            "Non-trainable params: 2,560\n",
            "_________________________________________________________________\n"
          ]
        }
      ],
      "source": [
        "model = keras.models.load_model('MobileNetV2_Results/Model_MobileNetV2')\n",
        "model.summary()"
      ]
    },
    {
      "cell_type": "code",
      "execution_count": null,
      "metadata": {
        "id": "zCVdD2siqzTk"
      },
      "outputs": [],
      "source": [
        "with open (r\"D:\\Results\\JHMDB\\RMobileNetV2_Results\\X_MobileNetV2.p\", 'rb') as fp:\n",
        "  X = pickle.load(fp)\n",
        "\n",
        "with open (r\"D:\\Results\\JHMDB\\Results_MobileNetV2\\Y_MobileNetV2.p\", 'rb') as fp:\n",
        "  Y = pickle.load(fp)"
      ]
    },
    {
      "cell_type": "code",
      "execution_count": null,
      "metadata": {
        "id": "pAy54jGHqzTl"
      },
      "outputs": [],
      "source": [
        "def pad_into_array(list, total_length):\n",
        "  T = []\n",
        "    \n",
        "  for i in range(len(list)):\n",
        "    pad = total_length - X[i].shape[0]\n",
        "    if pad <= 0:\n",
        "      T.append(list[i][:total_length, :])\n",
        "    else:\n",
        "      T.append(np.pad(list[i], [(0, pad), (0, 0)]))\n",
        "  \n",
        "  return np.array(T)"
      ]
    },
    {
      "cell_type": "code",
      "execution_count": null,
      "metadata": {
        "id": "4aYHQnzMqzTl",
        "outputId": "baedee5a-905e-4efc-a8ea-9a83d93830ce"
      },
      "outputs": [
        {
          "name": "stdout",
          "output_type": "stream",
          "text": [
            "<class 'numpy.ndarray'>\n",
            "(928, 40, 1280)\n",
            "<class 'numpy.ndarray'>\n",
            "(928, 21)\n"
          ]
        }
      ],
      "source": [
        "max_length = 40\n",
        "X = pad_into_array(X, max_length)\n",
        "\n",
        "print(type(X))\n",
        "print(X.shape)\n",
        "print(type(Y))\n",
        "print(Y.shape)"
      ]
    },
    {
      "cell_type": "code",
      "execution_count": null,
      "metadata": {
        "id": "iKL3kHZsqzTm",
        "outputId": "de2bffad-6bb7-4f16-da30-a105c5a7fa29"
      },
      "outputs": [
        {
          "name": "stdout",
          "output_type": "stream",
          "text": [
            "(742, 40, 1280)\n",
            "(742, 21)\n",
            "(186, 40, 1280)\n",
            "(186, 21)\n"
          ]
        }
      ],
      "source": [
        "X_train, X_test, Y_train, Y_test = train_test_split(X, Y, test_size=0.2, random_state=20)\n",
        "\n",
        "print(X_train.shape)\n",
        "print(Y_train.shape)\n",
        "print(X_test.shape)\n",
        "print(Y_test.shape)"
      ]
    },
    {
      "cell_type": "code",
      "execution_count": null,
      "metadata": {
        "id": "vQ-lGZdxqzTm",
        "outputId": "15fae479-f590-4b78-cb58-9fce327ff873"
      },
      "outputs": [
        {
          "name": "stdout",
          "output_type": "stream",
          "text": [
            "['brush_hair', 'catch', 'clap', 'climb_stairs', 'golf', 'jump', 'kick_ball', 'pick', 'pour', 'pullup', 'push', 'run', 'shoot_ball', 'shoot_bow', 'shoot_gun', 'sit', 'stand', 'swing_baseball', 'throw', 'walk', 'wave']\n"
          ]
        }
      ],
      "source": [
        "output = 'MobileNetV2_Results/confusion_matrix_MobileNetV2.png'\n",
        "\n",
        "classes=['brush_hair', 'catch', 'clap', 'climb_stairs', 'golf', 'jump', 'kick_ball', 'pick', 'pour', 'pullup', 'push', 'run', 'shoot_ball', 'shoot_bow', 'shoot_gun', 'sit', 'stand', 'swing_baseball', 'throw', 'walk', 'wave']\n",
        "\n",
        "print(classes)"
      ]
    },
    {
      "cell_type": "code",
      "execution_count": null,
      "metadata": {
        "id": "KKav9Fr7qzTn",
        "outputId": "9a0686f4-f3b4-464a-e444-134be8099551"
      },
      "outputs": [
        {
          "name": "stdout",
          "output_type": "stream",
          "text": [
            "Test loss: 0.4682442843914032\n",
            "Test accuracy: 0.8924731016159058\n"
          ]
        }
      ],
      "source": [
        "test_scores = model.evaluate(X_test, Y_test, verbose=0)\n",
        "\n",
        "print(\"Test loss:\", test_scores[0])\n",
        "print(\"Test accuracy:\", test_scores[1])\n",
        "\n",
        "predictions = model.predict(X_test)\n"
      ]
    },
    {
      "cell_type": "code",
      "execution_count": null,
      "metadata": {
        "id": "4Fi7zgMmqzTn"
      },
      "outputs": [],
      "source": [
        "Y_pred = np.argmax(predictions, axis=1)\n",
        "\n",
        "Y_true = np.argmax(Y_test, axis=1)\n",
        "\n",
        "conf_matrix = tf.math.confusion_matrix(labels=Y_true, predictions=Y_pred).numpy()"
      ]
    },
    {
      "cell_type": "code",
      "execution_count": null,
      "metadata": {
        "id": "FLtgtFs6qzTn",
        "outputId": "308c3eae-2b36-4e72-b5c0-79b5b493d173"
      },
      "outputs": [
        {
          "name": "stdout",
          "output_type": "stream",
          "text": [
            "                brush_hair  catch  clap  climb_stairs  golf  jump  kick_ball  \\\n",
            "brush_hair             0.8   0.00  0.00           0.0   0.0  0.00       0.00   \n",
            "catch                  0.0   1.00  0.00           0.0   0.0  0.00       0.00   \n",
            "clap                   0.0   0.00  0.92           0.0   0.0  0.00       0.00   \n",
            "climb_stairs           0.0   0.00  0.00           1.0   0.0  0.00       0.00   \n",
            "golf                   0.0   0.00  0.00           0.0   1.0  0.00       0.00   \n",
            "jump                   0.0   0.00  0.00           0.0   0.0  0.33       0.67   \n",
            "kick_ball              0.0   0.11  0.00           0.0   0.0  0.00       0.89   \n",
            "pick                   0.0   0.00  0.00           0.0   0.0  0.00       0.00   \n",
            "pour                   0.0   0.00  0.00           0.0   0.0  0.00       0.00   \n",
            "pullup                 0.0   0.00  0.00           0.0   0.0  0.00       0.00   \n",
            "push                   0.0   0.00  0.00           0.0   0.0  0.00       0.00   \n",
            "run                    0.0   0.00  0.00           0.0   0.0  0.14       0.14   \n",
            "shoot_ball             0.0   0.00  0.00           0.0   0.0  0.00       0.00   \n",
            "shoot_bow              0.0   0.00  0.00           0.0   0.0  0.00       0.00   \n",
            "shoot_gun              0.0   0.00  0.00           0.0   0.0  0.00       0.00   \n",
            "sit                    0.0   0.00  0.00           0.0   0.0  0.00       0.00   \n",
            "stand                  0.0   0.00  0.00           0.0   0.0  0.00       0.00   \n",
            "swing_baseball         0.0   0.14  0.00           0.0   0.0  0.00       0.00   \n",
            "throw                  0.0   0.00  0.00           0.0   0.0  0.00       0.00   \n",
            "walk                   0.0   0.00  0.00           0.0   0.0  0.00       0.00   \n",
            "wave                   0.1   0.00  0.10           0.0   0.0  0.00       0.00   \n",
            "\n",
            "                pick  pour  pullup  ...   run  shoot_ball  shoot_bow  \\\n",
            "brush_hair      0.00  0.00     0.0  ...  0.00         0.0        0.0   \n",
            "catch           0.00  0.00     0.0  ...  0.00         0.0        0.0   \n",
            "clap            0.00  0.08     0.0  ...  0.00         0.0        0.0   \n",
            "climb_stairs    0.00  0.00     0.0  ...  0.00         0.0        0.0   \n",
            "golf            0.00  0.00     0.0  ...  0.00         0.0        0.0   \n",
            "jump            0.00  0.00     0.0  ...  0.00         0.0        0.0   \n",
            "kick_ball       0.00  0.00     0.0  ...  0.00         0.0        0.0   \n",
            "pick            1.00  0.00     0.0  ...  0.00         0.0        0.0   \n",
            "pour            0.00  1.00     0.0  ...  0.00         0.0        0.0   \n",
            "pullup          0.00  0.00     1.0  ...  0.00         0.0        0.0   \n",
            "push            0.00  0.00     0.0  ...  0.00         0.0        0.0   \n",
            "run             0.14  0.00     0.0  ...  0.57         0.0        0.0   \n",
            "shoot_ball      0.00  0.00     0.0  ...  0.00         1.0        0.0   \n",
            "shoot_bow       0.00  0.00     0.0  ...  0.00         0.0        1.0   \n",
            "shoot_gun       0.14  0.00     0.0  ...  0.00         0.0        0.0   \n",
            "sit             0.00  0.00     0.0  ...  0.00         0.0        0.0   \n",
            "stand           0.00  0.00     0.0  ...  0.00         0.0        0.0   \n",
            "swing_baseball  0.00  0.00     0.0  ...  0.00         0.0        0.0   \n",
            "throw           0.00  0.00     0.0  ...  0.00         0.0        0.0   \n",
            "walk            0.00  0.00     0.0  ...  0.09         0.0        0.0   \n",
            "wave            0.00  0.00     0.0  ...  0.00         0.0        0.0   \n",
            "\n",
            "                shoot_gun   sit  stand  swing_baseball  throw  walk  wave  \n",
            "brush_hair           0.00  0.00   0.20            0.00   0.00  0.00   0.0  \n",
            "catch                0.00  0.00   0.00            0.00   0.00  0.00   0.0  \n",
            "clap                 0.00  0.00   0.00            0.00   0.00  0.00   0.0  \n",
            "climb_stairs         0.00  0.00   0.00            0.00   0.00  0.00   0.0  \n",
            "golf                 0.00  0.00   0.00            0.00   0.00  0.00   0.0  \n",
            "jump                 0.00  0.00   0.00            0.00   0.00  0.00   0.0  \n",
            "kick_ball            0.00  0.00   0.00            0.00   0.00  0.00   0.0  \n",
            "pick                 0.00  0.00   0.00            0.00   0.00  0.00   0.0  \n",
            "pour                 0.00  0.00   0.00            0.00   0.00  0.00   0.0  \n",
            "pullup               0.00  0.00   0.00            0.00   0.00  0.00   0.0  \n",
            "push                 0.00  0.00   0.00            0.00   0.14  0.00   0.0  \n",
            "run                  0.00  0.00   0.00            0.00   0.00  0.00   0.0  \n",
            "shoot_ball           0.00  0.00   0.00            0.00   0.00  0.00   0.0  \n",
            "shoot_bow            0.00  0.00   0.00            0.00   0.00  0.00   0.0  \n",
            "shoot_gun            0.86  0.00   0.00            0.00   0.00  0.00   0.0  \n",
            "sit                  0.00  1.00   0.00            0.00   0.00  0.00   0.0  \n",
            "stand                0.00  0.00   1.00            0.00   0.00  0.00   0.0  \n",
            "swing_baseball       0.00  0.00   0.00            0.86   0.00  0.00   0.0  \n",
            "throw                0.00  0.00   0.00            0.00   1.00  0.00   0.0  \n",
            "walk                 0.00  0.18   0.09            0.00   0.09  0.55   0.0  \n",
            "wave                 0.00  0.00   0.00            0.00   0.00  0.10   0.7  \n",
            "\n",
            "[21 rows x 21 columns]\n"
          ]
        }
      ],
      "source": [
        "con_mat_norm = np.around(conf_matrix.astype('float') / conf_matrix.sum(axis=1)[:, np.newaxis], decimals=2)\n",
        "\n",
        "con_mat_df = pd.DataFrame(con_mat_norm, index = classes, columns = classes)\n",
        "\n",
        "print(con_mat_df)"
      ]
    },
    {
      "cell_type": "code",
      "execution_count": null,
      "metadata": {
        "id": "HNtPl9LsqzTo",
        "outputId": "c685f314-b936-4770-efd7-6745148da7ae"
      },
      "outputs": [
        {
          "data": {
            "image/png": "[encoded data removed]",
            "text/plain": [
              "<Figure size 648x648 with 2 Axes>"
            ]
          },
          "metadata": {
            "needs_background": "light"
          },
          "output_type": "display_data"
        }
      ],
      "source": [
        "figure = plt.figure(figsize=(9, 9))\n",
        "sns.heatmap(con_mat_df, annot=True,cmap=plt.cm.Greens)\n",
        "plt.tight_layout()\n",
        "plt.ylabel('True label')\n",
        "plt.xlabel('Predicted label')\n",
        "plt.tight_layout()\n",
        "plt.savefig(output, format=\"png\", facecolor='white', transparent=False)"
      ]
    },
    {
      "cell_type": "code",
      "execution_count": null,
      "metadata": {
        "id": "k8Y-zaunqzTo"
      },
      "outputs": [],
      "source": [
        ""
      ]
    }
  ],
  "metadata": {
    "interpreter": {
      "hash": "ac59ebe37160ed0dfa835113d9b8498d9f09ceb179beaac4002f036b9467c963"
    },
    "kernelspec": {
      "display_name": "Python 3.9.6 64-bit",
      "language": "python",
      "name": "python3"
    },
    "language_info": {
      "codemirror_mode": {
        "name": "ipython",
        "version": 3
      },
      "file_extension": ".py",
      "mimetype": "text/x-python",
      "name": "python",
      "nbconvert_exporter": "python",
      "pygments_lexer": "ipython3",
      "version": "3.9.6"
    },
    "orig_nbformat": 4,
    "colab": {
      "name": "Confusion_Matrix.ipynb",
      "provenance": []
    }
  },
  "nbformat": 4,
  "nbformat_minor": 0
}